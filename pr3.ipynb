{
 "cells": [
  {
   "cell_type": "code",
   "execution_count": null,
   "id": "8f6af8cc",
   "metadata": {},
   "outputs": [],
   "source": [
    "#Extracting field of roll number usinng string indexing and slicing \n",
    "rno=\"CS2405\"\n",
    "print(\"Deparment code : \",rno[0:2])\n",
    "print(\"Course Year : \",rno[2:4])\n",
    "print(\"Student Roll no : \",rno[4:])"
   ]
  }
 ],
 "metadata": {
  "kernelspec": {
   "display_name": "Python 3 (ipykernel)",
   "language": "python",
   "name": "python3"
  },
  "language_info": {
   "codemirror_mode": {
    "name": "ipython",
    "version": 3
   },
   "file_extension": ".py",
   "mimetype": "text/x-python",
   "name": "python",
   "nbconvert_exporter": "python",
   "pygments_lexer": "ipython3",
   "version": "3.11.0"
  }
 },
 "nbformat": 4,
 "nbformat_minor": 5
}
